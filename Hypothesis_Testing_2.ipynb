{
  "cells": [
    {
      "cell_type": "markdown",
      "metadata": {
        "id": "view-in-github",
        "colab_type": "text"
      },
      "source": [
        "<a href=\"https://colab.research.google.com/github/Bady9898/Hypothesis_Testing/blob/main/Hypothesis_Testing_2.ipynb\" target=\"_parent\"><img src=\"https://colab.research.google.com/assets/colab-badge.svg\" alt=\"Open In Colab\"/></a>"
      ]
    },
    {
      "cell_type": "code",
      "execution_count": 1,
      "id": "e1814bc4",
      "metadata": {
        "id": "e1814bc4"
      },
      "outputs": [],
      "source": [
        "#2. question no. 2"
      ]
    },
    {
      "cell_type": "code",
      "execution_count": 3,
      "id": "20a26d75",
      "metadata": {
        "id": "20a26d75"
      },
      "outputs": [],
      "source": [
        "import numpy as np\n",
        "import pandas as pd\n",
        "import matplotlib.pyplot as plt\n",
        "import seaborn as sns\n",
        "import scipy\n",
        "import scipy.stats as stats\n",
        "import pylab"
      ]
    },
    {
      "cell_type": "code",
      "execution_count": 4,
      "id": "8c4ef05d",
      "metadata": {
        "id": "8c4ef05d"
      },
      "outputs": [],
      "source": [
        "b=pd.read_csv('LabTAT.csv')"
      ]
    },
    {
      "cell_type": "code",
      "execution_count": null,
      "id": "f9a9eb07",
      "metadata": {
        "id": "f9a9eb07",
        "outputId": "18e57b3b-967e-4ce9-b393-694ecfc0ea0e"
      },
      "outputs": [
        {
          "data": {
            "text/html": [
              "<div>\n",
              "<style scoped>\n",
              "    .dataframe tbody tr th:only-of-type {\n",
              "        vertical-align: middle;\n",
              "    }\n",
              "\n",
              "    .dataframe tbody tr th {\n",
              "        vertical-align: top;\n",
              "    }\n",
              "\n",
              "    .dataframe thead th {\n",
              "        text-align: right;\n",
              "    }\n",
              "</style>\n",
              "<table border=\"1\" class=\"dataframe\">\n",
              "  <thead>\n",
              "    <tr style=\"text-align: right;\">\n",
              "      <th></th>\n",
              "      <th>Laboratory 1</th>\n",
              "      <th>Laboratory 2</th>\n",
              "      <th>Laboratory 3</th>\n",
              "      <th>Laboratory 4</th>\n",
              "    </tr>\n",
              "  </thead>\n",
              "  <tbody>\n",
              "    <tr>\n",
              "      <th>0</th>\n",
              "      <td>185.35</td>\n",
              "      <td>165.53</td>\n",
              "      <td>176.70</td>\n",
              "      <td>166.13</td>\n",
              "    </tr>\n",
              "    <tr>\n",
              "      <th>1</th>\n",
              "      <td>170.49</td>\n",
              "      <td>185.91</td>\n",
              "      <td>198.45</td>\n",
              "      <td>160.79</td>\n",
              "    </tr>\n",
              "    <tr>\n",
              "      <th>2</th>\n",
              "      <td>192.77</td>\n",
              "      <td>194.92</td>\n",
              "      <td>201.23</td>\n",
              "      <td>185.18</td>\n",
              "    </tr>\n",
              "    <tr>\n",
              "      <th>3</th>\n",
              "      <td>177.33</td>\n",
              "      <td>183.00</td>\n",
              "      <td>199.61</td>\n",
              "      <td>176.42</td>\n",
              "    </tr>\n",
              "    <tr>\n",
              "      <th>4</th>\n",
              "      <td>193.41</td>\n",
              "      <td>169.57</td>\n",
              "      <td>204.63</td>\n",
              "      <td>152.60</td>\n",
              "    </tr>\n",
              "    <tr>\n",
              "      <th>...</th>\n",
              "      <td>...</td>\n",
              "      <td>...</td>\n",
              "      <td>...</td>\n",
              "      <td>...</td>\n",
              "    </tr>\n",
              "    <tr>\n",
              "      <th>115</th>\n",
              "      <td>178.49</td>\n",
              "      <td>170.66</td>\n",
              "      <td>193.80</td>\n",
              "      <td>172.68</td>\n",
              "    </tr>\n",
              "    <tr>\n",
              "      <th>116</th>\n",
              "      <td>176.08</td>\n",
              "      <td>183.98</td>\n",
              "      <td>215.25</td>\n",
              "      <td>177.64</td>\n",
              "    </tr>\n",
              "    <tr>\n",
              "      <th>117</th>\n",
              "      <td>202.48</td>\n",
              "      <td>174.54</td>\n",
              "      <td>203.99</td>\n",
              "      <td>170.27</td>\n",
              "    </tr>\n",
              "    <tr>\n",
              "      <th>118</th>\n",
              "      <td>182.40</td>\n",
              "      <td>197.18</td>\n",
              "      <td>194.52</td>\n",
              "      <td>150.87</td>\n",
              "    </tr>\n",
              "    <tr>\n",
              "      <th>119</th>\n",
              "      <td>182.09</td>\n",
              "      <td>215.17</td>\n",
              "      <td>221.49</td>\n",
              "      <td>162.21</td>\n",
              "    </tr>\n",
              "  </tbody>\n",
              "</table>\n",
              "<p>120 rows × 4 columns</p>\n",
              "</div>"
            ],
            "text/plain": [
              "     Laboratory 1  Laboratory 2  Laboratory 3  Laboratory 4\n",
              "0          185.35        165.53        176.70        166.13\n",
              "1          170.49        185.91        198.45        160.79\n",
              "2          192.77        194.92        201.23        185.18\n",
              "3          177.33        183.00        199.61        176.42\n",
              "4          193.41        169.57        204.63        152.60\n",
              "..            ...           ...           ...           ...\n",
              "115        178.49        170.66        193.80        172.68\n",
              "116        176.08        183.98        215.25        177.64\n",
              "117        202.48        174.54        203.99        170.27\n",
              "118        182.40        197.18        194.52        150.87\n",
              "119        182.09        215.17        221.49        162.21\n",
              "\n",
              "[120 rows x 4 columns]"
            ]
          },
          "execution_count": 6,
          "metadata": {},
          "output_type": "execute_result"
        }
      ],
      "source": [
        "b"
      ]
    },
    {
      "cell_type": "code",
      "execution_count": 5,
      "id": "93738c1c",
      "metadata": {
        "colab": {
          "base_uri": "https://localhost:8080/"
        },
        "id": "93738c1c",
        "outputId": "28fb491e-4e66-40e5-94d4-9b4b2b684396"
      },
      "outputs": [
        {
          "output_type": "execute_result",
          "data": {
            "text/plain": [
              "Laboratory 1    178.361583\n",
              "Laboratory 2    178.902917\n",
              "Laboratory 3    199.913250\n",
              "Laboratory 4    163.682750\n",
              "dtype: float64"
            ]
          },
          "metadata": {},
          "execution_count": 5
        }
      ],
      "source": [
        "b.mean()"
      ]
    },
    {
      "cell_type": "code",
      "execution_count": 6,
      "id": "51bc102f",
      "metadata": {
        "id": "51bc102f"
      },
      "outputs": [],
      "source": [
        "#import scipy.stats as stats"
      ]
    },
    {
      "cell_type": "code",
      "execution_count": 7,
      "id": "3275ac82",
      "metadata": {
        "colab": {
          "base_uri": "https://localhost:8080/"
        },
        "id": "3275ac82",
        "outputId": "30200234-0146-429f-c2ea-af0c34e2f057"
      },
      "outputs": [
        {
          "output_type": "execute_result",
          "data": {
            "text/plain": [
              "F_onewayResult(statistic=118.70421654401437, pvalue=2.1156708949992414e-57)"
            ]
          },
          "metadata": {},
          "execution_count": 7
        }
      ],
      "source": [
        "stats.f_oneway(b['Laboratory 1'],b['Laboratory 2'],b['Laboratory 3'],b['Laboratory 4'])"
      ]
    },
    {
      "cell_type": "code",
      "execution_count": 8,
      "id": "5cbf3451",
      "metadata": {
        "colab": {
          "base_uri": "https://localhost:8080/"
        },
        "id": "5cbf3451",
        "outputId": "c1cb5294-7a00-4762-9dc8-0d97b4eca0a4"
      },
      "outputs": [
        {
          "output_type": "execute_result",
          "data": {
            "text/plain": [
              "F_onewayResult(statistic=118.70421654401437, pvalue=2.1156708949992414e-57)"
            ]
          },
          "metadata": {},
          "execution_count": 8
        }
      ],
      "source": [
        "import scipy.stats as stats\n",
        "stats.f_oneway(b.iloc[:,0], b.iloc[:,1],b.iloc[:,2],b.iloc[:,3])"
      ]
    },
    {
      "cell_type": "code",
      "execution_count": null,
      "id": "9a09e82d",
      "metadata": {
        "id": "9a09e82d"
      },
      "outputs": [],
      "source": [
        ""
      ]
    }
  ],
  "metadata": {
    "kernelspec": {
      "display_name": "Python 3",
      "language": "python",
      "name": "python3"
    },
    "language_info": {
      "codemirror_mode": {
        "name": "ipython",
        "version": 3
      },
      "file_extension": ".py",
      "mimetype": "text/x-python",
      "name": "python",
      "nbconvert_exporter": "python",
      "pygments_lexer": "ipython3",
      "version": "3.8.8"
    },
    "colab": {
      "name": "Hypothesis Testing_2.ipynb",
      "provenance": [],
      "include_colab_link": true
    }
  },
  "nbformat": 4,
  "nbformat_minor": 5
}